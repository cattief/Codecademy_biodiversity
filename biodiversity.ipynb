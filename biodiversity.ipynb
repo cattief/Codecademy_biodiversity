{
 "cells": [
  {
   "cell_type": "markdown",
   "metadata": {},
   "source": [
    "# Capstone 2: Biodiversity Project"
   ]
  },
  {
   "cell_type": "markdown",
   "metadata": {},
   "source": [
    "# Introduction\n",
    "You are a biodiversity analyst working for the National Parks Service.  You're going to help them analyze some data about species at various national parks.\n",
    "\n",
    "Note: The data that you'll be working with for this project is *inspired* by real data, but is mostly fictional."
   ]
  },
  {
   "cell_type": "markdown",
   "metadata": {},
   "source": [
    "# Step 1\n",
    "Import the modules that you'll be using in this assignment:\n",
    "- `from matplotlib import pyplot as plt`\n",
    "- `import pandas as pd`"
   ]
  },
  {
   "cell_type": "code",
   "execution_count": 1,
   "metadata": {},
   "outputs": [],
   "source": [
    "from matplotlib import pyplot as plt\n",
    "import pandas as pd"
   ]
  },
  {
   "cell_type": "markdown",
   "metadata": {},
   "source": [
    "# Step 2\n",
    "You have been given two CSV files. `species_info.csv` with data about different species in our National Parks, including:\n",
    "- The scientific name of each species\n",
    "- The common names of each species\n",
    "- The species conservation status\n",
    "\n",
    "Load the dataset and inspect it:\n",
    "- Load `species_info.csv` into a DataFrame called `species`"
   ]
  },
  {
   "cell_type": "code",
   "execution_count": 2,
   "metadata": {},
   "outputs": [],
   "source": [
    "species = pd.read_csv('species_info.csv')"
   ]
  },
  {
   "cell_type": "markdown",
   "metadata": {},
   "source": [
    "Inspect each DataFrame using `.head()`."
   ]
  },
  {
   "cell_type": "code",
   "execution_count": 3,
   "metadata": {},
   "outputs": [
    {
     "name": "stdout",
     "output_type": "stream",
     "text": [
      "  category                scientific_name  \\\n",
      "0   Mammal  Clethrionomys gapperi gapperi   \n",
      "1   Mammal                      Bos bison   \n",
      "2   Mammal                     Bos taurus   \n",
      "3   Mammal                     Ovis aries   \n",
      "4   Mammal                 Cervus elaphus   \n",
      "\n",
      "                                        common_names conservation_status  \n",
      "0                           Gapper's Red-Backed Vole                 NaN  \n",
      "1                              American Bison, Bison                 NaN  \n",
      "2  Aurochs, Aurochs, Domestic Cattle (Feral), Dom...                 NaN  \n",
      "3  Domestic Sheep, Mouflon, Red Sheep, Sheep (Feral)                 NaN  \n",
      "4                                      Wapiti Or Elk                 NaN  \n"
     ]
    }
   ],
   "source": [
    "print(species.head())"
   ]
  },
  {
   "cell_type": "markdown",
   "metadata": {},
   "source": [
    "# Step 3\n",
    "Let's start by learning a bit more about our data.  Answer each of the following questions."
   ]
  },
  {
   "cell_type": "markdown",
   "metadata": {},
   "source": [
    "How many different species are in the `species` DataFrame?"
   ]
  },
  {
   "cell_type": "code",
   "execution_count": 4,
   "metadata": {},
   "outputs": [
    {
     "name": "stdout",
     "output_type": "stream",
     "text": [
      "5824\n"
     ]
    }
   ],
   "source": [
    "print(len(species))"
   ]
  },
  {
   "cell_type": "markdown",
   "metadata": {},
   "source": [
    "What are the different values of `category` in `species`?"
   ]
  },
  {
   "cell_type": "code",
   "execution_count": 5,
   "metadata": {},
   "outputs": [
    {
     "name": "stdout",
     "output_type": "stream",
     "text": [
      "['Mammal' 'Bird' 'Reptile' 'Amphibian' 'Fish' 'Vascular Plant'\n",
      " 'Nonvascular Plant']\n"
     ]
    }
   ],
   "source": [
    "print(species.category.unique())"
   ]
  },
  {
   "cell_type": "markdown",
   "metadata": {},
   "source": [
    "What are the different values of `conservation_status`?"
   ]
  },
  {
   "cell_type": "code",
   "execution_count": 6,
   "metadata": {},
   "outputs": [
    {
     "name": "stdout",
     "output_type": "stream",
     "text": [
      "[nan 'Species of Concern' 'Endangered' 'Threatened' 'In Recovery']\n"
     ]
    }
   ],
   "source": [
    "print(species.conservation_status .unique())"
   ]
  },
  {
   "cell_type": "markdown",
   "metadata": {},
   "source": [
    "# Step 4\n",
    "Let's start doing some analysis!\n",
    "\n",
    "The column `conservation_status` has several possible values:\n",
    "- `Species of Concern`: declining or appear to be in need of conservation\n",
    "- `Threatened`: vulnerable to endangerment in the near future\n",
    "- `Endangered`: seriously at risk of extinction\n",
    "- `In Recovery`: formerly `Endangered`, but currnetly neither in danger of extinction throughout all or a significant portion of its range\n",
    "\n",
    "We'd like to count up how many species meet each of these criteria.  Use `groupby` to count how many `scientific_name` meet each of these criteria."
   ]
  },
  {
   "cell_type": "code",
   "execution_count": 8,
   "metadata": {},
   "outputs": [
    {
     "name": "stdout",
     "output_type": "stream",
     "text": [
      "                     category  scientific_name  common_names\n",
      "conservation_status                                         \n",
      "Endangered                 16               16            16\n",
      "In Recovery                 4                4             4\n",
      "Species of Concern        161              161           161\n",
      "Threatened                 10               10            10\n"
     ]
    }
   ],
   "source": [
    "print(species.groupby(['conservation_status']).count())"
   ]
  },
  {
   "cell_type": "markdown",
   "metadata": {},
   "source": [
    "As we saw before, there are far more than 200 species in the `species` table.  Clearly, only a small number of them are categorized as needing some sort of protection.  The rest have `conservation_status` equal to `None`.  Because `groupby` does not include `None`, we will need to fill in the null values.  We can do this using `.fillna`.  We pass in however we want to fill in our `None` values as an argument.\n",
    "\n",
    "Paste the following code and run it to see replace `None` with `No Intervention`:\n",
    "```python\n",
    "species.fillna('No Intervention', inplace=True)\n",
    "```"
   ]
  },
  {
   "cell_type": "code",
   "execution_count": 9,
   "metadata": {},
   "outputs": [],
   "source": [
    "species.fillna('No Intervention', inplace=True)"
   ]
  },
  {
   "cell_type": "markdown",
   "metadata": {},
   "source": [
    "Great! Now run the same `groupby` as before to see how many species require `No Intervention`."
   ]
  },
  {
   "cell_type": "code",
   "execution_count": 10,
   "metadata": {},
   "outputs": [
    {
     "name": "stdout",
     "output_type": "stream",
     "text": [
      "                     category  scientific_name  common_names\n",
      "conservation_status                                         \n",
      "Endangered                 16               16            16\n",
      "In Recovery                 4                4             4\n",
      "No Intervention          5633             5633          5633\n",
      "Species of Concern        161              161           161\n",
      "Threatened                 10               10            10\n"
     ]
    }
   ],
   "source": [
    "print(species.groupby(['conservation_status']).count())"
   ]
  },
  {
   "cell_type": "markdown",
   "metadata": {},
   "source": [
    "Let's use `plt.bar` to create a bar chart.  First, let's sort the columns by how many species are in each categories.  We can do this using `.sort_values`.  We use the the keyword `by` to indicate which column we want to sort by.\n",
    "\n",
    "Paste the following code and run it to create a new DataFrame called `protection_counts`, which is sorted by `scientific_name`:\n",
    "```python\n",
    "protection_counts = species.groupby('conservation_status')\\\n",
    "    .scientific_name.nunique().reset_index()\\\n",
    "    .sort_values(by='scientific_name')\n",
    "```"
   ]
  },
  {
   "cell_type": "code",
   "execution_count": 20,
   "metadata": {},
   "outputs": [
    {
     "name": "stdout",
     "output_type": "stream",
     "text": [
      "  conservation_status  scientific_name\n",
      "1         In Recovery                4\n",
      "4          Threatened               10\n",
      "0          Endangered               15\n",
      "3  Species of Concern              151\n",
      "2     No Intervention             5363\n"
     ]
    }
   ],
   "source": [
    "protection_counts = species.groupby('conservation_status').scientific_name.nunique().reset_index().sort_values(by='scientific_name')\n",
    "print(protection_counts.head())"
   ]
  },
  {
   "cell_type": "markdown",
   "metadata": {},
   "source": [
    "Now let's create a bar chart!\n",
    "1. Start by creating a wide figure with `figsize=(10, 4)`\n",
    "1. Start by creating an axes object called `ax` using `plt.subplot`.\n",
    "2. Create a bar chart whose heights are equal to `scientific_name` column of `protection_counts`.\n",
    "3. Create an x-tick for each of the bars.\n",
    "4. Label each x-tick with the label from `conservation_status` in `protection_counts`\n",
    "5. Label the y-axis `Number of Species`\n",
    "6. Title the graph `Conservation Status by Species`\n",
    "7. Plot the grap using `plt.show()`"
   ]
  },
  {
   "cell_type": "code",
   "execution_count": 27,
   "metadata": {},
   "outputs": [
    {
     "data": {
      "image/png": "[encoded data removed]",
      "text/plain": [
       "<Figure size 720x288 with 1 Axes>"
      ]
     },
     "metadata": {
      "needs_background": "light"
     },
     "output_type": "display_data"
    }
   ],
   "source": [
    "plt.figure(figsize=(10, 4))\n",
    "ax = plt.subplot()\n",
    "plt.bar(range(len(protection_counts)),protection_counts.scientific_name)\n",
    "ax.set_xticks(range(len(protection_counts)))\n",
    "ax.set_xticklabels(protection_counts.conservation_status)\n",
    "plt.ylabel('Number of Species')\n",
    "plt.xlabel('Conservation status')\n",
    "plt.title('Conservation Status by Species')\n",
    "plt.show()\n",
    "\n"
   ]
  },
  {
   "cell_type": "markdown",
   "metadata": {},
   "source": [
    "# Step 5\n",
    "Are certain types of species more likely to be endangered?"
   ]
  },
  {
   "cell_type": "markdown",
   "metadata": {},
   "source": [
    "Let's create a new column in `species` called `is_protected`, which is `True` if `conservation_status` is not equal to `No Intervention`, and `False` otherwise."
   ]
  },
  {
   "cell_type": "code",
   "execution_count": 34,
   "metadata": {},
   "outputs": [
    {
     "name": "stdout",
     "output_type": "stream",
     "text": [
      "   category                scientific_name  \\\n",
      "0    Mammal  Clethrionomys gapperi gapperi   \n",
      "1    Mammal                      Bos bison   \n",
      "2    Mammal                     Bos taurus   \n",
      "3    Mammal                     Ovis aries   \n",
      "4    Mammal                 Cervus elaphus   \n",
      "5    Mammal         Odocoileus virginianus   \n",
      "6    Mammal                     Sus scrofa   \n",
      "7    Mammal                  Canis latrans   \n",
      "8    Mammal                    Canis lupus   \n",
      "9    Mammal                    Canis rufus   \n",
      "10   Mammal       Urocyon cinereoargenteus   \n",
      "11   Mammal                   Vulpes fulva   \n",
      "12   Mammal                  Vulpes vulpes   \n",
      "13   Mammal                 Felis concolor   \n",
      "14   Mammal               Felis silvestris   \n",
      "15   Mammal                     Lynx rufus   \n",
      "16   Mammal                  Puma concolor   \n",
      "17   Mammal              Mephitis mephitis   \n",
      "18   Mammal             Spilogale putorius   \n",
      "19   Mammal              Lontra canadensis   \n",
      "20   Mammal               Lutra canadensis   \n",
      "21   Mammal                Martes pennanti   \n",
      "22   Mammal                        Mustela   \n",
      "23   Mammal                Mustela frenata   \n",
      "24   Mammal                Mustela nivalis   \n",
      "25   Mammal                  Mustela vison   \n",
      "26   Mammal                  Procyon lotor   \n",
      "27   Mammal               Ursus americanus   \n",
      "28   Mammal       Corynorhinus rafinesquii   \n",
      "29   Mammal               Eptesicus fuscus   \n",
      "30   Mammal      Lasionycteris noctivagans   \n",
      "31   Mammal              Lasiurus borealis   \n",
      "32   Mammal              Lasiurus cinereus   \n",
      "33   Mammal          Myotis austroriparius   \n",
      "34   Mammal              Myotis grisescens   \n",
      "35   Mammal                  Myotis keenii   \n",
      "36   Mammal                  Myotis leibii   \n",
      "37   Mammal               Myotis lucifugus   \n",
      "38   Mammal         Myotis septentrionalis   \n",
      "39   Mammal                 Myotis sodalis   \n",
      "40   Mammal           Nycticeius humeralis   \n",
      "41   Mammal         Pipistrellus subflavus   \n",
      "42   Mammal           Didelphis virginiana   \n",
      "43   Mammal               Lepus americanus   \n",
      "44   Mammal          Sylvilagus floridanus   \n",
      "45   Mammal            Sylvilagus obscurus   \n",
      "46   Mammal      Sylvilagus transitionalis   \n",
      "47   Mammal                 Equus caballus   \n",
      "48   Mammal                   Homo sapiens   \n",
      "49   Mammal              Castor canadensis   \n",
      "\n",
      "                                         common_names conservation_status  \\\n",
      "0                            Gapper's Red-Backed Vole     No Intervention   \n",
      "1                               American Bison, Bison     No Intervention   \n",
      "2   Aurochs, Aurochs, Domestic Cattle (Feral), Dom...     No Intervention   \n",
      "3   Domestic Sheep, Mouflon, Red Sheep, Sheep (Feral)     No Intervention   \n",
      "4                                       Wapiti Or Elk     No Intervention   \n",
      "5                                   White-Tailed Deer     No Intervention   \n",
      "6                                 Feral Hog, Wild Pig     No Intervention   \n",
      "7                                              Coyote  Species of Concern   \n",
      "8                                           Gray Wolf          Endangered   \n",
      "9                                            Red Wolf          Endangered   \n",
      "10                          Common Gray Fox, Gray Fox     No Intervention   \n",
      "11          Black Fox, Cross Fox, Red Fox, Silver Fox     No Intervention   \n",
      "12                                            Red Fox     No Intervention   \n",
      "13                                      Mountain Lion     No Intervention   \n",
      "14                                  Wild Cat, Wildcat     No Intervention   \n",
      "15                                             Bobcat     No Intervention   \n",
      "16                            Panther (Mountain Lion)     No Intervention   \n",
      "17                                      Striped Skunk     No Intervention   \n",
      "18                              Eastern Spotted Skunk     No Intervention   \n",
      "19                                        River Otter     No Intervention   \n",
      "20                               Northern River Otter     No Intervention   \n",
      "21                                             Fisher     No Intervention   \n",
      "22                                   Mink (Or Weasel)     No Intervention   \n",
      "23                                 Long-Tailed Weasel     No Intervention   \n",
      "24                                       Least Weasel     No Intervention   \n",
      "25                                               Mink     No Intervention   \n",
      "26                            Common Raccoon, Raccoon     No Intervention   \n",
      "27                                         Black Bear     No Intervention   \n",
      "28                         Rafinesque's Big-Eared Bat     No Intervention   \n",
      "29                                      Big Brown Bat  Species of Concern   \n",
      "30                                  Silver-Haired Bat  Species of Concern   \n",
      "31                           Eastern Red Bat, Red Bat     No Intervention   \n",
      "32                                          Hoary Bat     No Intervention   \n",
      "33            Mississippi Myotis, Southeastern Myotis  Species of Concern   \n",
      "34                                        Gray Myotis          Endangered   \n",
      "35                                      Keen's Myotis  Species of Concern   \n",
      "36  Eastern Small-Footed Bat, Eastern Small-Footed...  Species of Concern   \n",
      "37              Little Brown Bat, Little Brown Myotis  Species of Concern   \n",
      "38           Northern Long-Eared Bat, Northern Myotis          Threatened   \n",
      "39              Indiana Bat, Indiana Or Social Myotis          Endangered   \n",
      "40                                        Evening Bat     No Intervention   \n",
      "41                                Eastern Pipistrelle     No Intervention   \n",
      "42                Virginia Opossum, Virginia Oppossum     No Intervention   \n",
      "43                                      Snowshoe Hare     No Intervention   \n",
      "44                                 Eastern Cottontail     No Intervention   \n",
      "45                             Appalachian Cottontail     No Intervention   \n",
      "46                             New England Cottontail     No Intervention   \n",
      "47                                 Feral Horse, Horse     No Intervention   \n",
      "48                                 Human, Humans, Man     No Intervention   \n",
      "49                            American Beaver, Beaver     No Intervention   \n",
      "\n",
      "    is_protected  \n",
      "0           True  \n",
      "1           True  \n",
      "2           True  \n",
      "3           True  \n",
      "4           True  \n",
      "5           True  \n",
      "6           True  \n",
      "7          False  \n",
      "8          False  \n",
      "9          False  \n",
      "10          True  \n",
      "11          True  \n",
      "12          True  \n",
      "13          True  \n",
      "14          True  \n",
      "15          True  \n",
      "16          True  \n",
      "17          True  \n",
      "18          True  \n",
      "19          True  \n",
      "20          True  \n",
      "21          True  \n",
      "22          True  \n",
      "23          True  \n",
      "24          True  \n",
      "25          True  \n",
      "26          True  \n",
      "27          True  \n",
      "28          True  \n",
      "29         False  \n",
      "30         False  \n",
      "31          True  \n",
      "32          True  \n",
      "33         False  \n",
      "34         False  \n",
      "35         False  \n",
      "36         False  \n",
      "37         False  \n",
      "38         False  \n",
      "39         False  \n",
      "40          True  \n",
      "41          True  \n",
      "42          True  \n",
      "43          True  \n",
      "44          True  \n",
      "45          True  \n",
      "46          True  \n",
      "47          True  \n",
      "48          True  \n",
      "49          True  \n"
     ]
    }
   ],
   "source": [
    "species['is_protected']=(species['conservation_status']!='No Intervention')\n",
    "                                \n",
    "print(species.head(50))"
   ]
  },
  {
   "cell_type": "markdown",
   "metadata": {},
   "source": [
    "Let's group the `species` data frame by the `category` and `is_protected` columns and count the unique `scientific_name`s in each grouping.\n",
    "\n",
    "Save your results to `category_counts`."
   ]
  },
  {
   "cell_type": "code",
   "execution_count": 48,
   "metadata": {},
   "outputs": [],
   "source": [
    "category_counts = species.groupby(['category','is_protected']).scientific_name.unique().reset_index()"
   ]
  },
  {
   "cell_type": "markdown",
   "metadata": {},
   "source": [
    "Examine `category_counts` using `head()`."
   ]
  },
  {
   "cell_type": "code",
   "execution_count": 49,
   "metadata": {},
   "outputs": [
    {
     "name": "stdout",
     "output_type": "stream",
     "text": [
      "            category  is_protected  \\\n",
      "0          Amphibian         False   \n",
      "1          Amphibian          True   \n",
      "2               Bird         False   \n",
      "3               Bird          True   \n",
      "4               Fish         False   \n",
      "5               Fish          True   \n",
      "6             Mammal         False   \n",
      "7             Mammal          True   \n",
      "8  Nonvascular Plant         False   \n",
      "9  Nonvascular Plant          True   \n",
      "\n",
      "                                     scientific_name  \n",
      "0  [Cryptobranchus alleganiensis alleganiensis, D...  \n",
      "1  [Bufo americanus americanus, Bufo fowleri, Acr...  \n",
      "2  [Accipiter cooperii, Accipiter striatus, Aquil...  \n",
      "3  [Vermivora pinus X chrysoptera, Accipiter gent...  \n",
      "4  [Erimonax monachus, Hemitremia flammea, Etheos...  \n",
      "5  [Labidesthes sicculus, Dorosoma cepedianum, Ca...  \n",
      "6  [Canis latrans, Canis lupus, Canis rufus, Epte...  \n",
      "7  [Clethrionomys gapperi gapperi, Bos bison, Bos...  \n",
      "8  [Plagiomnium carolinianum, Leptohymenium sharp...  \n",
      "9  [Andreaea rothii, Andreaea rupestris, Bartrami...  \n",
      "<class 'pandas.core.frame.DataFrame'>\n"
     ]
    }
   ],
   "source": [
    "print(category_counts.head(10))\n",
    "print(type(category_counts))"
   ]
  },
  {
   "cell_type": "markdown",
   "metadata": {
    "collapsed": true
   },
   "source": [
    "It's going to be easier to view this data if we pivot it.  Using `pivot`, rearange `category_counts` so that:\n",
    "- `columns` is `is_protected`\n",
    "- `index` is `category`\n",
    "- `values` is `scientific_name`\n",
    "\n",
    "Save your pivoted data to `category_pivot`. Remember to `reset_index()` at the end."
   ]
  },
  {
   "cell_type": "code",
   "execution_count": 61,
   "metadata": {},
   "outputs": [],
   "source": [
    "category_pivot = category_counts.pivot(index = 'category',columns = 'is_protected', values = 'scientific_name').reset_index()"
   ]
  },
  {
   "cell_type": "markdown",
   "metadata": {},
   "source": [
    "Examine `category_pivot`."
   ]
  },
  {
   "cell_type": "code",
   "execution_count": 62,
   "metadata": {},
   "outputs": [
    {
     "name": "stdout",
     "output_type": "stream",
     "text": [
      "is_protected           category  \\\n",
      "0                     Amphibian   \n",
      "1                          Bird   \n",
      "2                          Fish   \n",
      "3                        Mammal   \n",
      "4             Nonvascular Plant   \n",
      "5                       Reptile   \n",
      "6                Vascular Plant   \n",
      "\n",
      "is_protected                                              False  \\\n",
      "0             [Cryptobranchus alleganiensis alleganiensis, D...   \n",
      "1             [Accipiter cooperii, Accipiter striatus, Aquil...   \n",
      "2             [Erimonax monachus, Hemitremia flammea, Etheos...   \n",
      "3             [Canis latrans, Canis lupus, Canis rufus, Epte...   \n",
      "4             [Plagiomnium carolinianum, Leptohymenium sharp...   \n",
      "5             [Pituophis melanoleucus melanoleucus, Regina s...   \n",
      "6             [Tofieldia glabra, Zizia trifoliata, Isotria m...   \n",
      "\n",
      "is_protected                                               True  \n",
      "0             [Bufo americanus americanus, Bufo fowleri, Acr...  \n",
      "1             [Vermivora pinus X chrysoptera, Accipiter gent...  \n",
      "2             [Labidesthes sicculus, Dorosoma cepedianum, Ca...  \n",
      "3             [Clethrionomys gapperi gapperi, Bos bison, Bos...  \n",
      "4             [Andreaea rothii, Andreaea rupestris, Bartrami...  \n",
      "5             [Ophisaurus attenuatus longicaudus, Carphophis...  \n",
      "6             [Acorus calamus, Alisma subcordatum, Sagittari...  \n",
      "<class 'pandas.core.frame.DataFrame'>\n"
     ]
    }
   ],
   "source": [
    "print(category_pivot)\n",
    "print(type(category_pivot))\n",
    "#print(category_pivot.columns)"
   ]
  },
  {
   "cell_type": "markdown",
   "metadata": {},
   "source": [
    "Use the `.columns` property to  rename the categories `True` and `False` to something more description:\n",
    "- Leave `category` as `category`\n",
    "- Rename `False` to `not_protected`\n",
    "- Rename `True` to `protected`"
   ]
  },
  {
   "cell_type": "code",
   "execution_count": 63,
   "metadata": {},
   "outputs": [],
   "source": [
    "category_pivot.columns=['category','not_protected','protected']"
   ]
  },
  {
   "cell_type": "markdown",
   "metadata": {},
   "source": [
    "Let's create a new column of `category_pivot` called `percent_protected`, which is equal to `protected` (the number of species that are protected) divided by `protected` plus `not_protected` (the total number of species)."
   ]
  },
  {
   "cell_type": "code",
   "execution_count": 89,
   "metadata": {},
   "outputs": [],
   "source": [
    "category_pivot['percent_protected'] = category_pivot.apply(lambda x:len(x['protected'])/(len(x['protected'])+len(x['not_protected'])),axis=1)\n",
    "#category_pivot['percent_protected'] = len(category_pivot['protected'])*1.0/(len(category_pivot['protected'])+len(category_pivot['not_protected']))"
   ]
  },
  {
   "cell_type": "markdown",
   "metadata": {},
   "source": [
    "Examine `category_pivot`."
   ]
  },
  {
   "cell_type": "code",
   "execution_count": 97,
   "metadata": {},
   "outputs": [
    {
     "name": "stdout",
     "output_type": "stream",
     "text": [
      "            category                                      not_protected  \\\n",
      "0          Amphibian  [Cryptobranchus alleganiensis alleganiensis, D...   \n",
      "1               Bird  [Accipiter cooperii, Accipiter striatus, Aquil...   \n",
      "2               Fish  [Erimonax monachus, Hemitremia flammea, Etheos...   \n",
      "3             Mammal  [Canis latrans, Canis lupus, Canis rufus, Epte...   \n",
      "4  Nonvascular Plant  [Plagiomnium carolinianum, Leptohymenium sharp...   \n",
      "5            Reptile  [Pituophis melanoleucus melanoleucus, Regina s...   \n",
      "6     Vascular Plant  [Tofieldia glabra, Zizia trifoliata, Isotria m...   \n",
      "\n",
      "                                           protected  percent_protected  \n",
      "0  [Bufo americanus americanus, Bufo fowleri, Acr...           0.911392  \n",
      "1  [Vermivora pinus X chrysoptera, Accipiter gent...           0.846311  \n",
      "2  [Labidesthes sicculus, Dorosoma cepedianum, Ca...           0.912698  \n",
      "3  [Clethrionomys gapperi gapperi, Bos bison, Bos...           0.829545  \n",
      "4  [Andreaea rothii, Andreaea rupestris, Bartrami...           0.984985  \n",
      "5  [Ophisaurus attenuatus longicaudus, Carphophis...           0.935897  \n",
      "6  [Acorus calamus, Alisma subcordatum, Sagittari...           0.989207  \n",
      "Amphibian 72 7\n",
      "Bird 413 75\n",
      "Fish 115 11\n",
      "Mammal 146 30\n",
      "Nonvascular Plant 328 5\n",
      "Reptile 73 5\n",
      "Vascular Plant 4216 46\n"
     ]
    },
    {
     "data": {
      "text/plain": [
       "0.9113924050632911"
      ]
     },
     "execution_count": 97,
     "metadata": {},
     "output_type": "execute_result"
    }
   ],
   "source": [
    "print(category_pivot.head(10))\n",
    "print('Amphibian',len(category_pivot['protected'][0]),len(category_pivot['not_protected'][0]))\n",
    "print('Bird',len(category_pivot['protected'][1]),len(category_pivot['not_protected'][1]))\n",
    "print('Fish',len(category_pivot['protected'][2]),len(category_pivot['not_protected'][2]))\n",
    "print('Mammal',len(category_pivot['protected'][3]),len(category_pivot['not_protected'][3]))\n",
    "print('Nonvascular Plant',len(category_pivot['protected'][4]),len(category_pivot['not_protected'][4]))\n",
    "print('Reptile',len(category_pivot['protected'][5]),len(category_pivot['not_protected'][5]))\n",
    "print('Vascular Plant',len(category_pivot['protected'][6]),len(category_pivot['not_protected'][6]))\n",
    "72/79\n"
   ]
  },
  {
   "cell_type": "markdown",
   "metadata": {},
   "source": [
    "It looks like species in category `Mammal` are more likely to be endangered than species in `Bird`.  We're going to do a significance test to see if this statement is true.  Before you do the significance test, consider the following questions:\n",
    "- Is the data numerical or categorical?\n",
    "- How many pieces of data are you comparing?"
   ]
  },
  {
   "cell_type": "markdown",
   "metadata": {},
   "source": [
    "Based on those answers, you should choose to do a *chi squared test*.  In order to run a chi squared test, we'll need to create a contingency table.  Our contingency table should look like this:\n",
    "\n",
    "||protected|not protected|\n",
    "|-|-|-|\n",
    "|Mammal|?|?|\n",
    "|Bird|?|?|\n",
    "\n",
    "Create a table called `contingency` and fill it in with the correct numbers"
   ]
  },
  {
   "cell_type": "code",
   "execution_count": 92,
   "metadata": {},
   "outputs": [],
   "source": [
    "\n",
    "contingency = [[75,413],[30,146]]"
   ]
  },
  {
   "cell_type": "markdown",
   "metadata": {},
   "source": [
    "In order to perform our chi square test, we'll need to import the correct function from scipy.  Past the following code and run it:\n",
    "```py\n",
    "from scipy.stats import chi2_contingency\n",
    "```"
   ]
  },
  {
   "cell_type": "code",
   "execution_count": 93,
   "metadata": {},
   "outputs": [],
   "source": [
    "from scipy.stats import chi2_contingency"
   ]
  },
  {
   "cell_type": "markdown",
   "metadata": {},
   "source": [
    "Now run `chi2_contingency` with `contingency`."
   ]
  },
  {
   "cell_type": "code",
   "execution_count": 95,
   "metadata": {},
   "outputs": [
    {
     "name": "stdout",
     "output_type": "stream",
     "text": [
      "0.6875948096661336\n"
     ]
    }
   ],
   "source": [
    "_,p,_,_=chi2_contingency(contingency)\n",
    "print(p)"
   ]
  },
  {
   "cell_type": "markdown",
   "metadata": {},
   "source": [
    "It looks like this difference isn't significant!\n",
    "\n",
    "Let's test another.  Is the difference between `Reptile` and `Mammal` significant?"
   ]
  },
  {
   "cell_type": "code",
   "execution_count": 99,
   "metadata": {},
   "outputs": [
    {
     "name": "stdout",
     "output_type": "stream",
     "text": [
      "0.03835559022969898\n"
     ]
    }
   ],
   "source": [
    "contingency2 = [[5,73],[30,146]]\n",
    "_,p2,_,_=chi2_contingency(contingency2)\n",
    "print(p2)"
   ]
  },
  {
   "cell_type": "markdown",
   "metadata": {},
   "source": [
    "Yes! It looks like there is a significant difference between `Reptile` and `Mammal`!"
   ]
  },
  {
   "cell_type": "markdown",
   "metadata": {},
   "source": [
    "# Step 6"
   ]
  },
  {
   "cell_type": "markdown",
   "metadata": {},
   "source": [
    "Conservationists have been recording sightings of different species at several national parks for the past 7 days.  They've saved sent you their observations in a file called `observations.csv`.  Load `observations.csv` into a variable called `observations`, then use `head` to view the data."
   ]
  },
  {
   "cell_type": "code",
   "execution_count": 101,
   "metadata": {},
   "outputs": [
    {
     "name": "stdout",
     "output_type": "stream",
     "text": [
      "                     scientific_name                            park_name  \\\n",
      "0                 Vicia benghalensis  Great Smoky Mountains National Park   \n",
      "1                     Neovison vison  Great Smoky Mountains National Park   \n",
      "2                  Prunus subcordata               Yosemite National Park   \n",
      "3               Abutilon theophrasti                  Bryce National Park   \n",
      "4           Githopsis specularioides  Great Smoky Mountains National Park   \n",
      "5  Elymus virginicus var. virginicus               Yosemite National Park   \n",
      "6                   Spizella pusilla            Yellowstone National Park   \n",
      "7                  Elymus multisetus  Great Smoky Mountains National Park   \n",
      "8             Lysimachia quadrifolia               Yosemite National Park   \n",
      "9         Diphyscium cumberlandianum            Yellowstone National Park   \n",
      "\n",
      "   observations  \n",
      "0            68  \n",
      "1            77  \n",
      "2           138  \n",
      "3            84  \n",
      "4            85  \n",
      "5           112  \n",
      "6           228  \n",
      "7            39  \n",
      "8           168  \n",
      "9           250  \n"
     ]
    }
   ],
   "source": [
    "observations = pd.read_csv('observations.csv')\n",
    "print(observations.head(10))"
   ]
  },
  {
   "cell_type": "markdown",
   "metadata": {},
   "source": [
    "Some scientists are studying the number of sheep sightings at different national parks.  There are several different scientific names for different types of sheep.  We'd like to know which rows of `species` are referring to sheep.  Notice that the following code will tell us whether or not a word occurs in a string:"
   ]
  },
  {
   "cell_type": "code",
   "execution_count": 1,
   "metadata": {},
   "outputs": [
    {
     "data": {
      "text/plain": [
       "True"
      ]
     },
     "execution_count": 1,
     "metadata": {},
     "output_type": "execute_result"
    }
   ],
   "source": [
    "# Does \"Sheep\" occur in this string?\n",
    "str1 = 'This string contains Sheep'\n",
    "'Sheep' in str1"
   ]
  },
  {
   "cell_type": "code",
   "execution_count": 2,
   "metadata": {},
   "outputs": [
    {
     "data": {
      "text/plain": [
       "False"
      ]
     },
     "execution_count": 2,
     "metadata": {},
     "output_type": "execute_result"
    }
   ],
   "source": [
    "# Does \"Sheep\" occur in this string?\n",
    "str2 = 'This string contains Cows'\n",
    "'Sheep' in str2"
   ]
  },
  {
   "cell_type": "markdown",
   "metadata": {},
   "source": [
    "Use `apply` and a `lambda` function to create a new column in `species` called `is_sheep` which is `True` if the `common_names` contains `'Sheep'`, and `False` otherwise."
   ]
  },
  {
   "cell_type": "code",
   "execution_count": 102,
   "metadata": {},
   "outputs": [
    {
     "name": "stdout",
     "output_type": "stream",
     "text": [
      "  category                scientific_name  \\\n",
      "0   Mammal  Clethrionomys gapperi gapperi   \n",
      "1   Mammal                      Bos bison   \n",
      "2   Mammal                     Bos taurus   \n",
      "3   Mammal                     Ovis aries   \n",
      "4   Mammal                 Cervus elaphus   \n",
      "5   Mammal         Odocoileus virginianus   \n",
      "6   Mammal                     Sus scrofa   \n",
      "7   Mammal                  Canis latrans   \n",
      "8   Mammal                    Canis lupus   \n",
      "9   Mammal                    Canis rufus   \n",
      "\n",
      "                                        common_names conservation_status  \\\n",
      "0                           Gapper's Red-Backed Vole     No Intervention   \n",
      "1                              American Bison, Bison     No Intervention   \n",
      "2  Aurochs, Aurochs, Domestic Cattle (Feral), Dom...     No Intervention   \n",
      "3  Domestic Sheep, Mouflon, Red Sheep, Sheep (Feral)     No Intervention   \n",
      "4                                      Wapiti Or Elk     No Intervention   \n",
      "5                                  White-Tailed Deer     No Intervention   \n",
      "6                                Feral Hog, Wild Pig     No Intervention   \n",
      "7                                             Coyote  Species of Concern   \n",
      "8                                          Gray Wolf          Endangered   \n",
      "9                                           Red Wolf          Endangered   \n",
      "\n",
      "   is_protected  is_sheep  \n",
      "0          True     False  \n",
      "1          True     False  \n",
      "2          True     False  \n",
      "3          True      True  \n",
      "4          True     False  \n",
      "5          True     False  \n",
      "6          True     False  \n",
      "7         False     False  \n",
      "8         False     False  \n",
      "9         False     False  \n"
     ]
    }
   ],
   "source": [
    "species['is_sheep'] = species.common_names.apply(lambda x: 'Sheep' in x)\n",
    "print(species.head(10))"
   ]
  },
  {
   "cell_type": "markdown",
   "metadata": {},
   "source": [
    "Select the rows of `species` where `is_sheep` is `True` and examine the results."
   ]
  },
  {
   "cell_type": "code",
   "execution_count": 114,
   "metadata": {},
   "outputs": [
    {
     "name": "stdout",
     "output_type": "stream",
     "text": [
      "     category          scientific_name  \\\n",
      "3      Mammal               Ovis aries   \n",
      "3014   Mammal          Ovis canadensis   \n",
      "4446   Mammal  Ovis canadensis sierrae   \n",
      "\n",
      "                                           common_names conservation_status  \\\n",
      "3     Domestic Sheep, Mouflon, Red Sheep, Sheep (Feral)     No Intervention   \n",
      "3014                       Bighorn Sheep, Bighorn Sheep  Species of Concern   \n",
      "4446                        Sierra Nevada Bighorn Sheep          Endangered   \n",
      "\n",
      "      is_protected  is_sheep  \n",
      "3             True      True  \n",
      "3014         False      True  \n",
      "4446         False      True  \n"
     ]
    }
   ],
   "source": [
    "sheep_species = species[(species['category']=='Mammal') & (species['is_sheep']==True)]\n",
    "print(sheep_species.head(10))"
   ]
  },
  {
   "cell_type": "code",
   "execution_count": 115,
   "metadata": {},
   "outputs": [
    {
     "data": {
      "text/html": [
       "<div>\n",
       "<style scoped>\n",
       "    .dataframe tbody tr th:only-of-type {\n",
       "        vertical-align: middle;\n",
       "    }\n",
       "\n",
       "    .dataframe tbody tr th {\n",
       "        vertical-align: top;\n",
       "    }\n",
       "\n",
       "    .dataframe thead th {\n",
       "        text-align: right;\n",
       "    }\n",
       "</style>\n",
       "<table border=\"1\" class=\"dataframe\">\n",
       "  <thead>\n",
       "    <tr style=\"text-align: right;\">\n",
       "      <th></th>\n",
       "      <th>category</th>\n",
       "      <th>scientific_name</th>\n",
       "      <th>common_names</th>\n",
       "      <th>conservation_status</th>\n",
       "      <th>is_protected</th>\n",
       "      <th>is_sheep</th>\n",
       "    </tr>\n",
       "  </thead>\n",
       "  <tbody>\n",
       "    <tr>\n",
       "      <th>3</th>\n",
       "      <td>Mammal</td>\n",
       "      <td>Ovis aries</td>\n",
       "      <td>Domestic Sheep, Mouflon, Red Sheep, Sheep (Feral)</td>\n",
       "      <td>No Intervention</td>\n",
       "      <td>True</td>\n",
       "      <td>True</td>\n",
       "    </tr>\n",
       "    <tr>\n",
       "      <th>1139</th>\n",
       "      <td>Vascular Plant</td>\n",
       "      <td>Rumex acetosella</td>\n",
       "      <td>Sheep Sorrel, Sheep Sorrell</td>\n",
       "      <td>No Intervention</td>\n",
       "      <td>True</td>\n",
       "      <td>True</td>\n",
       "    </tr>\n",
       "    <tr>\n",
       "      <th>2233</th>\n",
       "      <td>Vascular Plant</td>\n",
       "      <td>Festuca filiformis</td>\n",
       "      <td>Fineleaf Sheep Fescue</td>\n",
       "      <td>No Intervention</td>\n",
       "      <td>True</td>\n",
       "      <td>True</td>\n",
       "    </tr>\n",
       "    <tr>\n",
       "      <th>3014</th>\n",
       "      <td>Mammal</td>\n",
       "      <td>Ovis canadensis</td>\n",
       "      <td>Bighorn Sheep, Bighorn Sheep</td>\n",
       "      <td>Species of Concern</td>\n",
       "      <td>False</td>\n",
       "      <td>True</td>\n",
       "    </tr>\n",
       "    <tr>\n",
       "      <th>3758</th>\n",
       "      <td>Vascular Plant</td>\n",
       "      <td>Rumex acetosella</td>\n",
       "      <td>Common Sheep Sorrel, Field Sorrel, Red Sorrel,...</td>\n",
       "      <td>No Intervention</td>\n",
       "      <td>True</td>\n",
       "      <td>True</td>\n",
       "    </tr>\n",
       "    <tr>\n",
       "      <th>3761</th>\n",
       "      <td>Vascular Plant</td>\n",
       "      <td>Rumex paucifolius</td>\n",
       "      <td>Alpine Sheep Sorrel, Fewleaved Dock, Meadow Dock</td>\n",
       "      <td>No Intervention</td>\n",
       "      <td>True</td>\n",
       "      <td>True</td>\n",
       "    </tr>\n",
       "    <tr>\n",
       "      <th>4091</th>\n",
       "      <td>Vascular Plant</td>\n",
       "      <td>Carex illota</td>\n",
       "      <td>Sheep Sedge, Smallhead Sedge</td>\n",
       "      <td>No Intervention</td>\n",
       "      <td>True</td>\n",
       "      <td>True</td>\n",
       "    </tr>\n",
       "    <tr>\n",
       "      <th>4383</th>\n",
       "      <td>Vascular Plant</td>\n",
       "      <td>Potentilla ovina var. ovina</td>\n",
       "      <td>Sheep Cinquefoil</td>\n",
       "      <td>No Intervention</td>\n",
       "      <td>True</td>\n",
       "      <td>True</td>\n",
       "    </tr>\n",
       "    <tr>\n",
       "      <th>4446</th>\n",
       "      <td>Mammal</td>\n",
       "      <td>Ovis canadensis sierrae</td>\n",
       "      <td>Sierra Nevada Bighorn Sheep</td>\n",
       "      <td>Endangered</td>\n",
       "      <td>False</td>\n",
       "      <td>True</td>\n",
       "    </tr>\n",
       "  </tbody>\n",
       "</table>\n",
       "</div>"
      ],
      "text/plain": [
       "            category              scientific_name  \\\n",
       "3             Mammal                   Ovis aries   \n",
       "1139  Vascular Plant             Rumex acetosella   \n",
       "2233  Vascular Plant           Festuca filiformis   \n",
       "3014          Mammal              Ovis canadensis   \n",
       "3758  Vascular Plant             Rumex acetosella   \n",
       "3761  Vascular Plant            Rumex paucifolius   \n",
       "4091  Vascular Plant                 Carex illota   \n",
       "4383  Vascular Plant  Potentilla ovina var. ovina   \n",
       "4446          Mammal      Ovis canadensis sierrae   \n",
       "\n",
       "                                           common_names conservation_status  \\\n",
       "3     Domestic Sheep, Mouflon, Red Sheep, Sheep (Feral)     No Intervention   \n",
       "1139                        Sheep Sorrel, Sheep Sorrell     No Intervention   \n",
       "2233                              Fineleaf Sheep Fescue     No Intervention   \n",
       "3014                       Bighorn Sheep, Bighorn Sheep  Species of Concern   \n",
       "3758  Common Sheep Sorrel, Field Sorrel, Red Sorrel,...     No Intervention   \n",
       "3761   Alpine Sheep Sorrel, Fewleaved Dock, Meadow Dock     No Intervention   \n",
       "4091                       Sheep Sedge, Smallhead Sedge     No Intervention   \n",
       "4383                                   Sheep Cinquefoil     No Intervention   \n",
       "4446                        Sierra Nevada Bighorn Sheep          Endangered   \n",
       "\n",
       "      is_protected  is_sheep  \n",
       "3             True      True  \n",
       "1139          True      True  \n",
       "2233          True      True  \n",
       "3014         False      True  \n",
       "3758          True      True  \n",
       "3761          True      True  \n",
       "4091          True      True  \n",
       "4383          True      True  \n",
       "4446         False      True  "
      ]
     },
     "execution_count": 115,
     "metadata": {},
     "output_type": "execute_result"
    }
   ],
   "source": [
    "species[ (species['is_sheep']==True)]"
   ]
  },
  {
   "cell_type": "markdown",
   "metadata": {},
   "source": [
    "Many of the results are actually plants.  Select the rows of `species` where `is_sheep` is `True` and `category` is `Mammal`.  Save the results to the variable `sheep_species`."
   ]
  },
  {
   "cell_type": "markdown",
   "metadata": {},
   "source": [
    "Now merge `sheep_species` with `observations` to get a DataFrame with observations of sheep.  Save this DataFrame as `sheep_observations`."
   ]
  },
  {
   "cell_type": "code",
   "execution_count": 125,
   "metadata": {},
   "outputs": [
    {
     "name": "stdout",
     "output_type": "stream",
     "text": [
      "  category  scientific_name  \\\n",
      "0   Mammal       Ovis aries   \n",
      "1   Mammal       Ovis aries   \n",
      "2   Mammal       Ovis aries   \n",
      "3   Mammal       Ovis aries   \n",
      "4   Mammal  Ovis canadensis   \n",
      "\n",
      "                                        common_names conservation_status  \\\n",
      "0  Domestic Sheep, Mouflon, Red Sheep, Sheep (Feral)     No Intervention   \n",
      "1  Domestic Sheep, Mouflon, Red Sheep, Sheep (Feral)     No Intervention   \n",
      "2  Domestic Sheep, Mouflon, Red Sheep, Sheep (Feral)     No Intervention   \n",
      "3  Domestic Sheep, Mouflon, Red Sheep, Sheep (Feral)     No Intervention   \n",
      "4                       Bighorn Sheep, Bighorn Sheep  Species of Concern   \n",
      "\n",
      "   is_protected  is_sheep                            park_name  observations  \n",
      "0          True      True               Yosemite National Park           126  \n",
      "1          True      True  Great Smoky Mountains National Park            76  \n",
      "2          True      True                  Bryce National Park           119  \n",
      "3          True      True            Yellowstone National Park           221  \n",
      "4         False      True            Yellowstone National Park           219  \n"
     ]
    }
   ],
   "source": [
    "sheep_observations = sheep_species.merge(observations, how='inner')\n",
    "print(sheep_observations.head())"
   ]
  },
  {
   "cell_type": "markdown",
   "metadata": {},
   "source": [
    "How many total sheep observations (across all three species) were made at each national park?  Use `groupby` to get the `sum` of `observations` for each `park_name`.  Save your answer to `obs_by_park`.\n",
    "\n",
    "This is the total number of sheep observed in each park over the past 7 days."
   ]
  },
  {
   "cell_type": "code",
   "execution_count": 144,
   "metadata": {},
   "outputs": [],
   "source": [
    "obs_by_park = sheep_observations.groupby(['park_name']).sum().reset_index()"
   ]
  },
  {
   "cell_type": "code",
   "execution_count": 145,
   "metadata": {},
   "outputs": [
    {
     "data": {
      "text/html": [
       "<div>\n",
       "<style scoped>\n",
       "    .dataframe tbody tr th:only-of-type {\n",
       "        vertical-align: middle;\n",
       "    }\n",
       "\n",
       "    .dataframe tbody tr th {\n",
       "        vertical-align: top;\n",
       "    }\n",
       "\n",
       "    .dataframe thead th {\n",
       "        text-align: right;\n",
       "    }\n",
       "</style>\n",
       "<table border=\"1\" class=\"dataframe\">\n",
       "  <thead>\n",
       "    <tr style=\"text-align: right;\">\n",
       "      <th></th>\n",
       "      <th>park_name</th>\n",
       "      <th>is_protected</th>\n",
       "      <th>is_sheep</th>\n",
       "      <th>observations</th>\n",
       "    </tr>\n",
       "  </thead>\n",
       "  <tbody>\n",
       "    <tr>\n",
       "      <th>0</th>\n",
       "      <td>Bryce National Park</td>\n",
       "      <td>1.0</td>\n",
       "      <td>3.0</td>\n",
       "      <td>250</td>\n",
       "    </tr>\n",
       "    <tr>\n",
       "      <th>1</th>\n",
       "      <td>Great Smoky Mountains National Park</td>\n",
       "      <td>1.0</td>\n",
       "      <td>3.0</td>\n",
       "      <td>149</td>\n",
       "    </tr>\n",
       "    <tr>\n",
       "      <th>2</th>\n",
       "      <td>Yellowstone National Park</td>\n",
       "      <td>1.0</td>\n",
       "      <td>3.0</td>\n",
       "      <td>507</td>\n",
       "    </tr>\n",
       "    <tr>\n",
       "      <th>3</th>\n",
       "      <td>Yosemite National Park</td>\n",
       "      <td>1.0</td>\n",
       "      <td>3.0</td>\n",
       "      <td>282</td>\n",
       "    </tr>\n",
       "  </tbody>\n",
       "</table>\n",
       "</div>"
      ],
      "text/plain": [
       "                             park_name  is_protected  is_sheep  observations\n",
       "0                  Bryce National Park           1.0       3.0           250\n",
       "1  Great Smoky Mountains National Park           1.0       3.0           149\n",
       "2            Yellowstone National Park           1.0       3.0           507\n",
       "3               Yosemite National Park           1.0       3.0           282"
      ]
     },
     "execution_count": 145,
     "metadata": {},
     "output_type": "execute_result"
    }
   ],
   "source": [
    "obs_by_park"
   ]
  },
  {
   "cell_type": "markdown",
   "metadata": {},
   "source": [
    "Create a bar chart showing the different number of observations per week at each park.\n",
    "\n",
    "1. Start by creating a wide figure with `figsize=(16, 4)`\n",
    "1. Start by creating an axes object called `ax` using `plt.subplot`.\n",
    "2. Create a bar chart whose heights are equal to `observations` column of `obs_by_park`.\n",
    "3. Create an x-tick for each of the bars.\n",
    "4. Label each x-tick with the label from `park_name` in `obs_by_park`\n",
    "5. Label the y-axis `Number of Observations`\n",
    "6. Title the graph `Observations of Sheep per Week`\n",
    "7. Plot the grap using `plt.show()`"
   ]
  },
  {
   "cell_type": "code",
   "execution_count": 148,
   "metadata": {},
   "outputs": [
    {
     "data": {
      "image/png": "[encoded data removed]",
      "text/plain": [
       "<Figure size 1152x288 with 1 Axes>"
      ]
     },
     "metadata": {
      "needs_background": "light"
     },
     "output_type": "display_data"
    }
   ],
   "source": [
    "plt.figure(figsize=(16, 4))\n",
    "ax = plt.subplot()\n",
    "plt.bar(range(len(obs_by_park)),obs_by_park['observations'])\n",
    "ax.set_xticks(range(len(obs_by_park)))\n",
    "ax.set_xticklabels(obs_by_park['park_name'])\n",
    "plt.ylabel('Number of Observations')\n",
    "plt.xlabel('Parks')\n",
    "\n",
    "plt.title('Observations of Sheep per Week')\n",
    "plt.show()"
   ]
  },
  {
   "cell_type": "markdown",
   "metadata": {},
   "source": [
    "Our scientists know that 15% of sheep at Bryce National Park have foot and mouth disease.  Park rangers at Yellowstone National Park have been running a program to reduce the rate of foot and mouth disease at that park.  The scientists want to test whether or not this program is working.  They want to be able to detect reductions of at least 5 percentage points.  For instance, if 10% of sheep in Yellowstone have foot and mouth disease, they'd like to be able to know this, with confidence.\n",
    "\n",
    "Use <a href=\"https://s3.amazonaws.com/codecademy-content/courses/learn-hypothesis-testing/a_b_sample_size/index.html\">Codecademy's sample size calculator</a> to calculate the number of sheep that they would need to observe from each park.  Use the default level of significance (90%).\n",
    "\n",
    "Remember that \"Minimum Detectable Effect\" is a percent of the baseline."
   ]
  },
  {
   "cell_type": "code",
   "execution_count": null,
   "metadata": {
    "collapsed": true
   },
   "outputs": [],
   "source": [
    "870"
   ]
  },
  {
   "cell_type": "markdown",
   "metadata": {},
   "source": [
    "How many weeks would you need to observe sheep at Bryce National Park in order to observe enough sheep?  How many weeks would you need to observe at Yellowstone National Park to observe enough sheep?"
   ]
  },
  {
   "cell_type": "code",
   "execution_count": 151,
   "metadata": {},
   "outputs": [
    {
     "data": {
      "text/plain": [
       "3.48"
      ]
     },
     "execution_count": 151,
     "metadata": {},
     "output_type": "execute_result"
    }
   ],
   "source": [
    "870/250"
   ]
  },
  {
   "cell_type": "code",
   "execution_count": 152,
   "metadata": {},
   "outputs": [
    {
     "data": {
      "text/plain": [
       "1.7159763313609468"
      ]
     },
     "execution_count": 152,
     "metadata": {},
     "output_type": "execute_result"
    }
   ],
   "source": [
    "870/507"
   ]
  },
  {
   "cell_type": "code",
   "execution_count": null,
   "metadata": {},
   "outputs": [],
   "source": []
  }
 ],
 "metadata": {
  "kernelspec": {
   "display_name": "Python 3",
   "language": "python",
   "name": "python3"
  },
  "language_info": {
   "codemirror_mode": {
    "name": "ipython",
    "version": 3
   },
   "file_extension": ".py",
   "mimetype": "text/x-python",
   "name": "python",
   "nbconvert_exporter": "python",
   "pygments_lexer": "ipython3",
   "version": "3.7.7"
  }
 },
 "nbformat": 4,
 "nbformat_minor": 2
}
